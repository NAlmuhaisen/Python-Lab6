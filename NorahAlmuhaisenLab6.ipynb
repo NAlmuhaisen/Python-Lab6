{
 "cells": [
  {
   "cell_type": "raw",
   "id": "0ed0ea7b",
   "metadata": {},
   "source": [
    "I have solved this lab in two ways the first one is a basic the second has more creativity."
   ]
  },
  {
   "cell_type": "code",
   "execution_count": 1,
   "id": "6f9d2b65",
   "metadata": {},
   "outputs": [],
   "source": [
    "#Building a phone book\n",
    "phone_book = {'1111111111':'Amal',\n",
    "              '2222222222':'Mohammed',\n",
    "              '3333333333':'Khadijah',\n",
    "              '4444444444':'Abdullah',\n",
    "              '5555555555':'Rawan',\n",
    "              '6666666666':'Faisal',\n",
    "              '7777777777':'Layla'}"
   ]
  },
  {
   "cell_type": "code",
   "execution_count": 5,
   "id": "d3042188",
   "metadata": {},
   "outputs": [
    {
     "name": "stdout",
     "output_type": "stream",
     "text": [
      "Enter the phone number of the person that you want to get his name : 9999999999\n",
      "Sorry, the number is not found\n"
     ]
    }
   ],
   "source": [
    "# the first way to do it.\n",
    "user_input=input('Enter the phone number of the person that you want to get his name : ') #taking the phone number from the user  \n",
    "\n",
    "if len(user_input) < 10 or len(user_input) > 10: #If the number is less or more than 10 numbers, it will show an error message\n",
    "    print(\"This is invalid number\")\n",
    "elif user_input.isdigit()==False: # If the entered value contains letters or symbols, it will show an error message\n",
    "     print(\"This is invalid number\")\n",
    "elif user_input in phone_book: # If the number exists in the phone book, it will print the owner.\n",
    "    print (phone_book[user_input])\n",
    "else:  # If the number does not exist in the phone book, will show the follwoing message\n",
    "    print(\"Sorry, the number is not found\")"
   ]
  },
  {
   "cell_type": "code",
   "execution_count": null,
   "id": "2a7c4480",
   "metadata": {},
   "outputs": [],
   "source": [
    "# the second way to do it.\n",
    "user_input=input('Enter the phone number of the person that you want to get his name : ') #taking the phone number from the user  \n",
    "\n",
    "'''\n",
    "The following is to vaildate the inpur of the user.\n",
    "if the user enter invalid input it will show an error message and ask him to enter another value. \n",
    "It will keep doing this untill the user enter a valid and existing value (using a while loop).\n",
    "'''\n",
    "\n",
    "while len(user_input) == 0: #if the user press enter without entering a value it will show a message and ask him to enter a value again\n",
    "    print(\"you did not enter any value, please enter a valid phone number.\")\n",
    "    user_input=input('Enter the phone number of the person that you want to get his name : ')\n",
    "\n",
    "    \n",
    "while len(user_input) != 10 : #if the user enter a value that is not 10 digit-value, it will show a message and ask him to enter a value again\n",
    "    print(\"You have to enter 10 digits ex: 0555555555. Try again..\")\n",
    "    user_input=input('Enter the phone number of the person that you want to get his name : ')  \n",
    "    \n",
    "while user_input.isdigit()==False : # If the entered value contains letters or symbols, it will show an error message and ask him to enter a value again\n",
    "    print(\"You have to enter a phone number that does not include letters nor symbols. Try again..\")\n",
    "    user_input=input('Enter the phone number of the person that you want to get his name : ')  \n",
    "    \n",
    "while user_input not in phone_book: # If the number does not exist in the phone book, it will show a message and ask him to enter a value again\n",
    "    print(\"Sorry, the number is not found. Try again..\")\n",
    "    user_input=input('Enter the phone number of the person that you want to get his name : ') \n",
    "\n",
    "if user_input in phone_book: # If the number exists in the phone book, print the owner.\n",
    "    print (phone_book[user_input])\n",
    "        "
   ]
  },
  {
   "cell_type": "code",
   "execution_count": null,
   "id": "09b6e7e7",
   "metadata": {},
   "outputs": [],
   "source": []
  }
 ],
 "metadata": {
  "kernelspec": {
   "display_name": "Python 3 (ipykernel)",
   "language": "python",
   "name": "python3"
  },
  "language_info": {
   "codemirror_mode": {
    "name": "ipython",
    "version": 3
   },
   "file_extension": ".py",
   "mimetype": "text/x-python",
   "name": "python",
   "nbconvert_exporter": "python",
   "pygments_lexer": "ipython3",
   "version": "3.10.9"
  }
 },
 "nbformat": 4,
 "nbformat_minor": 5
}
